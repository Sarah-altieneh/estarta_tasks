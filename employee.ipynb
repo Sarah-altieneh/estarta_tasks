{
 "cells": [
  {
   "cell_type": "code",
   "execution_count": null,
   "metadata": {},
   "outputs": [],
   "source": [
    "#import the libraries\n",
    "import pandas as pd\n",
    "import numpy as np\n",
    "import matplotlib.pyplot as plt"
   ]
  },
  {
   "cell_type": "code",
   "execution_count": null,
   "metadata": {},
   "outputs": [],
   "source": [
    "#load the data\n",
    "def load_data(file_path):\n",
    "    return pd.read_excel(file_path, engine=\"openpyxl\")\n",
    "\n",
    "#info about the data\n",
    "def info_about_data (df):\n",
    "    print(df.info())\n",
    "    print(\"\\nShape of the data:\\n\", df.shape)\n",
    "    print(\"\\nData type:\\n\", df.dtypes)\n",
    "    print(\"\\nMissing values:\\n\", df.isnull().sum())\n",
    "    print(\"\\nUnique values:\\n\", df.nunique())\n",
    "    print(\"\\nDuplicate Rows:\\n\", df.duplicated().sum())"
   ]
  },
  {
   "cell_type": "code",
   "execution_count": null,
   "metadata": {},
   "outputs": [],
   "source": [
    "#fill exit date\n",
    "def fill_exit_date(df):\n",
    "    df[\"Hire Date\"] = pd.to_datetime(df[\"Hire Date\"], errors='coerce')\n",
    "    df[\"Exit Date\"] = pd.to_datetime(df[\"Exit Date\"], errors='coerce')\n",
    "    df[\"Age\"] = pd.to_numeric(df[\"Age\"], errors='coerce')\n",
    "    df[\"Gender\"] = df[\"Gender\"].str.strip().str.lower()\n",
    "\n",
    "    # Define retirement ages\n",
    "    retirement_ages = {\"male\": 60, \"female\": 55}\n",
    "\n",
    "    # Identify rows where Exit Date is missing\n",
    "    missing_exit = df[\"Exit Date\"].isna()\n",
    "    \n",
    "    # Ensure only rows with valid Age and Gender are updated\n",
    "    valid_age = df.loc[missing_exit, \"Age\"].notna()\n",
    "    valid_gender = df.loc[missing_exit, \"Gender\"].isin(retirement_ages)\n",
    "\n",
    "    # Calculate estimated exit date for missing values only\n",
    "    def calculate_exit_date(row):\n",
    "        retirement_age = retirement_ages[row[\"Gender\"]]\n",
    "        return row[\"Hire Date\"] + pd.DateOffset(years=(retirement_age - row[\"Age\"]))\n",
    "\n",
    "    # Apply filling only where Exit Date was originally missing\n",
    "    df.loc[missing_exit & valid_age & valid_gender, \"Exit Date\"] = df.loc[\n",
    "        missing_exit & valid_age & valid_gender\n",
    "    ].apply(calculate_exit_date, axis=1)\n",
    "\n",
    "    return df\n",
    "\n",
    "#clean the data\n",
    "def clean_data(df):\n",
    "    df.drop_duplicates(inplace=True)\n",
    "    df[\"Full Name\"].fillna(\"Not Provided\", inplace=True)\n",
    "    df[\"Country\"].fillna(\"Not Provided\", inplace=True)\n",
    "    df[\"Gender\"].fillna(df[\"Gender\"].mode()[0] if not df[\"Gender\"].mode().empty else \"Not Provided\", inplace=True)\n",
    "    df[\"Job Title\"].fillna(df.groupby(\"Department\")[\"Job Title\"].transform(lambda x: x.mode()[0] if not x.mode().empty else \"Unknown\"), inplace=True)\n",
    "    df[\"Department\"].fillna(df[\"Department\"].mode()[0] if not df[\"Department\"].mode().empty else \"Not Assigned\", inplace=True)\n",
    "     # Fill missing ethnicity based on country\n",
    "    for x in df.index:\n",
    "        if pd.isna(df.loc[x, \"Ethnicity\"]) or str(df.loc[x, \"Ethnicity\"]).strip() == \"\":\n",
    "            if df.loc[x, \"Country\"] == \"China\":\n",
    "                df.loc[x, \"Ethnicity\"] = \"Asian\"\n",
    "            elif df.loc[x, \"Country\"] == \"Brazil\":\n",
    "                df.loc[x, \"Ethnicity\"] = \"Latino\"\n",
    "            else:\n",
    "                df.loc[x, \"Ethnicity\"] = \"Not Provided\"\n",
    "    df[\"Age\"].fillna(df[\"Age\"].median(), inplace=True)\n",
    "    df[\"Annual Salary\"].fillna(df.groupby(\"Job Title\")[\"Annual Salary\"].transform(lambda x: x.median()), inplace=True)\n",
    "    df[\"Bonus %\"].fillna(df[\"Bonus %\"].mean(), inplace=True)\n",
    "    # Fill missing Hire Date with the earliest recorded date\n",
    "    earliest_hire_date = df[\"Hire Date\"].min()\n",
    "    df[\"Hire Date\"].fillna(earliest_hire_date, inplace=True)  \n",
    "    # Fill missing cities based on country and ethnicity using a loop\n",
    "    for x in df.index:\n",
    "        if pd.isna(df.loc[x, \"City\"]) or str(df.loc[x, \"City\"]).strip() == \"\":\n",
    "            if df.loc[x, \"Country\"] == \"United States\" and df.loc[x, \"Ethnicity\"] == \"Caucasian\":\n",
    "                df.loc[x, \"City\"] = df[\"City\"].mode()[0]\n",
    "            else:\n",
    "                df.loc[x, \"City\"] = \"Not Provided\"          \n",
    "    df = fill_exit_date(df)\n",
    "    return df"
   ]
  },
  {
   "cell_type": "code",
   "execution_count": null,
   "metadata": {},
   "outputs": [],
   "source": [
    "#modify the first five rows \n",
    "def modify_first_five_rows(df):\n",
    "    sample_data = [\n",
    "        [\"Alice Johnson\", \"Software Engineer\", \"IT\", 30, 120000],\n",
    "        [\"Bob Smith\", \"Data Scientist\", \"IT\", 35, 135000],\n",
    "        [\"Charlie Brown\", \"Marketing Manager\", \"Marketing\", 40, 95000],\n",
    "        [\"Diana Prince\", \"HR Specialist\", \"HR\", 32, 85000],\n",
    "        [\"Ethan Hunt\", \"Sales Executive\", \"Sales\", 45, 110000],\n",
    "    ] \n",
    "    df.loc[:4, [\"Full Name\", \"Job Title\", \"Department\", \"Age\", \"Annual Salary\"]] = sample_data\n",
    "    return df\n"
   ]
  },
  {
   "cell_type": "code",
   "execution_count": null,
   "metadata": {},
   "outputs": [],
   "source": [
    "#analyez for data\n",
    "def analyze_data(df):\n",
    "    max_salary = df[\"Annual Salary\"].max()\n",
    "    highest_salary_row = df[df[\"Annual Salary\"] == max_salary]\n",
    "    grouped_dept = df.groupby(\"Department\")[[\"Age\", \"Annual Salary\"]].mean()\n",
    "    grouped_dept_ethnicity = df.groupby([\"Department\", \"Ethnicity\"])[[\"Age\", \"Annual Salary\"]].agg([\"max\", \"min\", \"median\"])\n",
    "    return highest_salary_row, grouped_dept, grouped_dept_ethnicity\n"
   ]
  },
  {
   "cell_type": "code",
   "execution_count": null,
   "metadata": {},
   "outputs": [],
   "source": [
    "#save the data in excle file \n",
    "def save_data(df,file_path):\n",
    "    df.to_excel(file_path,index=False)"
   ]
  },
  {
   "cell_type": "code",
   "execution_count": null,
   "metadata": {},
   "outputs": [],
   "source": [
    "#the excute for the code \n",
    "file_path=r\"C:\\Users\\user\\Downloads\\Employee Sample Data - A.xlsx\"\n",
    "df=load_data(file_path)\n",
    "info_about_data(df)\n",
    "df=clean_data(df)\n",
    "info_about_data(df)\n",
    "df=modify_first_five_rows(df)\n",
    "highest_salary, grouped_dept, grouped_dept_ethnicity = analyze_data(df)\n",
    "output_path = \"Processed_Employee_Data.xlsx\"\n",
    "save_data(df, output_path)\n",
    "print(\"Highest Salary Employee:\\n\", highest_salary)\n",
    "print(\"\\nAverage Age & Salary per Department:\\n\", grouped_dept)\n",
    "print(\"\\nDepartment + Ethnicity Analysis:\\n\", grouped_dept_ethnicity)\n",
    "print(\"\\nProcessed data saved to:\", output_path)"
   ]
  }
 ],
 "metadata": {
  "kernelspec": {
   "display_name": "base",
   "language": "python",
   "name": "python3"
  },
  "language_info": {
   "name": "python",
   "version": "3.11.5"
  }
 },
 "nbformat": 4,
 "nbformat_minor": 2
}
